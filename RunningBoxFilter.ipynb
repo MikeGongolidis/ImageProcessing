{
 "cells": [
  {
   "cell_type": "markdown",
   "metadata": {},
   "source": [
    "# Box Filtering Algorithm\n",
    "\n",
    "This notebook is a simple implementation of the box filter algorithm and a simple implementation of the Running box filter algorithm, an improvement of the first one.\n",
    "\n"
   ]
  },
  {
   "cell_type": "code",
   "execution_count": 27,
   "metadata": {},
   "outputs": [],
   "source": [
    "%matplotlib inline\n",
    "from skimage.exposure import rescale_intensity\n",
    "import cv2\n",
    "import os \n",
    "from matplotlib import pyplot as plt\n",
    "import numpy as np\n",
    "import time"
   ]
  },
  {
   "cell_type": "code",
   "execution_count": 54,
   "metadata": {},
   "outputs": [
    {
     "name": "stdout",
     "output_type": "stream",
     "text": [
      "C:\\Users\\Mike\\Documents\\MASTER\\BUDAPEST\\Image Processing\\pics\n"
     ]
    }
   ],
   "source": [
    "__file__ = \"pics/tulipan.png\"\n",
    "dir_path = os.path.dirname(os.path.realpath(__file__))\n",
    "print(dir_path)\n",
    "image = cv2.imread(__file__,2)\n",
    "#cv2.imshow(\"image\",image)\n",
    "#cv2.waitKey()"
   ]
  },
  {
   "cell_type": "code",
   "execution_count": 55,
   "metadata": {},
   "outputs": [
    {
     "data": {
      "image/png": "[encoded data removed]",
      "text/plain": [
       "<Figure size 432x288 with 1 Axes>"
      ]
     },
     "metadata": {
      "needs_background": "light"
     },
     "output_type": "display_data"
    },
    {
     "data": {
      "text/plain": [
       "(200, 200)"
      ]
     },
     "execution_count": 55,
     "metadata": {},
     "output_type": "execute_result"
    }
   ],
   "source": [
    "plt.imshow(image,cmap=\"gray\")\n",
    "plt.show()\n",
    "image.shape"
   ]
  },
  {
   "cell_type": "code",
   "execution_count": 47,
   "metadata": {},
   "outputs": [
    {
     "data": {
      "text/plain": [
       "array([[0.11111111, 0.11111111, 0.11111111],\n",
       "       [0.11111111, 0.11111111, 0.11111111],\n",
       "       [0.11111111, 0.11111111, 0.11111111]])"
      ]
     },
     "execution_count": 47,
     "metadata": {},
     "output_type": "execute_result"
    }
   ],
   "source": [
    "kernel = np.full((3, 3), 1/9)\n",
    "kernel"
   ]
  },
  {
   "cell_type": "code",
   "execution_count": 48,
   "metadata": {},
   "outputs": [],
   "source": [
    "def convolution(image,kernel):\n",
    "    (iH, iW) = image.shape[:2]\n",
    "    (kH, kW) = kernel.shape[:2]\n",
    "    pad = (kW - 1) // 2\n",
    "    image = cv2.copyMakeBorder(image, pad, pad, pad, pad,cv2.BORDER_REPLICATE)\n",
    "    output = np.zeros((iH, iW), dtype=\"float32\")\n",
    "    print(image.shape)\n",
    "    print(output.shape)\n",
    "    for y in np.arange(pad, iH + pad):\n",
    "            for x in np.arange(pad, iW + pad):\n",
    "                # extract the ROI of the image by extracting the\n",
    "                # *center* region of the current (x, y)-coordinates\n",
    "                # dimensions\n",
    "                roi = image[y - pad:y + pad + 1, x - pad:x + pad + 1]\n",
    "\n",
    "                # perform the actual convolution by taking the\n",
    "                # element-wise multiplicate between the ROI and\n",
    "                # the kernel, then summing the matrix\n",
    "                k = (roi * kernel).sum()\n",
    "\n",
    "                # store the convolved value in the output (x,y)-\n",
    "                # coordinate of the output image\n",
    "                output[y - pad, x - pad] = k\n",
    "    # rescale the output image to be in the range [0, 255]\n",
    "    #output = rescale_intensity(output, in_range=(0, 255))\n",
    "    #output = (output * 255).astype(\"uint8\")\n",
    "    return output"
   ]
  },
  {
   "cell_type": "code",
   "execution_count": 49,
   "metadata": {},
   "outputs": [
    {
     "name": "stdout",
     "output_type": "stream",
     "text": [
      "(202, 202)\n",
      "(200, 200)\n",
      "0.20943927764892578\n"
     ]
    }
   ],
   "source": [
    "start = time.time()\n",
    "output = convolution(image,kernel)\n",
    "end = time.time()\n",
    "print(end - start)"
   ]
  },
  {
   "cell_type": "code",
   "execution_count": 50,
   "metadata": {},
   "outputs": [
    {
     "data": {
      "image/png": "[encoded data removed]",
      "text/plain": [
       "<Figure size 432x288 with 1 Axes>"
      ]
     },
     "metadata": {
      "needs_background": "light"
     },
     "output_type": "display_data"
    },
    {
     "data": {
      "image/png": "[encoded data removed]",
      "text/plain": [
       "<Figure size 432x288 with 1 Axes>"
      ]
     },
     "metadata": {
      "needs_background": "light"
     },
     "output_type": "display_data"
    }
   ],
   "source": [
    "f1 = plt.figure(1)\n",
    "plt.imshow(image,cmap=\"gray\")\n",
    "f2 = plt.figure(2)\n",
    "plt.imshow(output,cmap=\"gray\")\n",
    "\n",
    "plt.show()\n"
   ]
  },
  {
   "cell_type": "markdown",
   "metadata": {},
   "source": [
    "## Implementing Running box filter here: "
   ]
  },
  {
   "cell_type": "code",
   "execution_count": 51,
   "metadata": {},
   "outputs": [],
   "source": [
    "def fastRunning(image,kernel):\n",
    "    (iH, iW) = image.shape[:2]\n",
    "    (kH, kW) = kernel.shape[:2]\n",
    "    pad = (kW - 1) // 2\n",
    "    image = cv2.copyMakeBorder(image, pad, pad, pad, pad,cv2.BORDER_REPLICATE)\n",
    "    output = np.zeros((iH, iW), dtype=\"float32\")\n",
    "    print(image.shape)\n",
    "    print(output.shape)\n",
    "    \n",
    "    #Initialize S\n",
    "    S = np.zeros((1,iW+pad+pad))\n",
    "    y = 1\n",
    "    x = 1\n",
    "    roi = image[y - pad:y + pad + 1, x - pad:x + pad + 1]\n",
    "    k = roi*kernel\n",
    "    S[0,0:3] = [sum(t) for t in zip(*k)]\n",
    "    for x in np.arange(pad+1, iW+pad):\n",
    "        roi = image[y-pad:y+pad+1,x+1]\n",
    "        k = (roi*kernel[y-pad:y+pad+1,2]).sum()\n",
    "        S[0,x+1] = k\n",
    "    #S initialized\n",
    "    \n",
    "    \n",
    "    # Recalculate S and create output pixel for every row and column\n",
    "    for y in np.arange(pad, iH + pad):\n",
    "        if y > pad:\n",
    "            S = S - image[y-pad-1,:]*kernel[0,0] + image[y+1,:]*kernel[0,0]\n",
    "        Sum = S[0,0]+S[0,1]+S[0,2]\n",
    "        for x in np.arange(pad, iW + pad):\n",
    "            if x>pad:\n",
    "                Sum = Sum - S[0,x-2] + S[0,x+1]\n",
    "            output[y - pad, x - pad] = Sum\n",
    "            \n",
    "\n",
    "                \n",
    "                \n",
    "    # rescale the output image to be in the range [0, 255]\n",
    "    output = rescale_intensity(output, in_range=(0, 255))\n",
    "    output = (output * 255).astype(\"uint8\")\n",
    "    return output"
   ]
  },
  {
   "cell_type": "code",
   "execution_count": 52,
   "metadata": {},
   "outputs": [
    {
     "name": "stdout",
     "output_type": "stream",
     "text": [
      "(202, 202)\n",
      "(200, 200)\n",
      "0.053649187088012695\n"
     ]
    }
   ],
   "source": [
    "start = time.time()\n",
    "output = fastRunning(image,kernel)\n",
    "end = time.time()\n",
    "print(end - start)"
   ]
  },
  {
   "cell_type": "code",
   "execution_count": 53,
   "metadata": {},
   "outputs": [
    {
     "data": {
      "image/png": "[encoded data removed]",
      "text/plain": [
       "<Figure size 432x288 with 1 Axes>"
      ]
     },
     "metadata": {
      "needs_background": "light"
     },
     "output_type": "display_data"
    },
    {
     "data": {
      "image/png": "[encoded data removed]",
      "text/plain": [
       "<Figure size 432x288 with 1 Axes>"
      ]
     },
     "metadata": {
      "needs_background": "light"
     },
     "output_type": "display_data"
    }
   ],
   "source": [
    "f1 = plt.figure(1)\n",
    "plt.imshow(image,cmap=\"gray\")\n",
    "f2 = plt.figure(2)\n",
    "plt.imshow(output,cmap=\"gray\")\n",
    "\n",
    "plt.show()\n"
   ]
  },
  {
   "cell_type": "code",
   "execution_count": null,
   "metadata": {},
   "outputs": [],
   "source": []
  }
 ],
 "metadata": {
  "kernelspec": {
   "display_name": "Python 3",
   "language": "python",
   "name": "python3"
  },
  "language_info": {
   "codemirror_mode": {
    "name": "ipython",
    "version": 3
   },
   "file_extension": ".py",
   "mimetype": "text/x-python",
   "name": "python",
   "nbconvert_exporter": "python",
   "pygments_lexer": "ipython3",
   "version": "3.7.4"
  }
 },
 "nbformat": 4,
 "nbformat_minor": 2
}
